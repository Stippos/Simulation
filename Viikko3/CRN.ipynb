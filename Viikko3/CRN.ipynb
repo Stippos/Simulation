{
 "cells": [
  {
   "cell_type": "markdown",
   "metadata": {},
   "source": [
    "# Simulation\n",
    "## Assignment 3.1 – Common random numbers\n",
    "#### Ari Viitala 432568"
   ]
  },
  {
   "cell_type": "code",
   "execution_count": 474,
   "metadata": {},
   "outputs": [],
   "source": [
    "import numpy as np\n",
    "import time \n",
    "import matplotlib.pyplot as plt\n",
    "%matplotlib inline"
   ]
  },
  {
   "cell_type": "code",
   "execution_count": 529,
   "metadata": {},
   "outputs": [],
   "source": [
    "def system(lambda_c, mu_1, mu_2, seed):\n",
    "    seeder = np.random\n",
    "    seeder.seed(seed)\n",
    "    #creating the random number streams for all different processes \n",
    "    rand_customers = np.random\n",
    "    rand_server1 = np.random\n",
    "    rand_server2 = np.random \n",
    "    rand_switch = np.random\n",
    "    #seeding the random number streams \n",
    "    rand_customers.seed(seeder.randint(1,1000000))\n",
    "    rand_server1.seed(seeder.randint(1,1000000))\n",
    "    rand_server2.seed(seeder.randint(1,1000000))\n",
    "    rand_switch.seed(seeder.randint(1,1000000))\n",
    "    #the basic simulation variables like in every queue simulation\n",
    "    t = 0\n",
    "    n_out = 0\n",
    "    customer = rand_customers.exponential(lambda_c)\n",
    "    server1 = 10000000\n",
    "    server2 = 10000000\n",
    "    status1 = 0\n",
    "    status2 = 0\n",
    "    que1 = 0\n",
    "    que2 = 0\n",
    "    que_t = 0\n",
    "    \n",
    "    while n_out < 100:\n",
    "        if customer < min(server1, server2):\n",
    "            #when a new customer arrives we update the queuetime\n",
    "            que_t += (customer - t) * (que1 + que2)\n",
    "            t = customer\n",
    "            #the horrible if-else mess that decides what to do based on que lengths server statuses\n",
    "            if que1 < que2:\n",
    "                if status1 == 0:\n",
    "                    server1 = t + rand_server1.exponential(mu_1)\n",
    "                    status1 = 1\n",
    "                else:\n",
    "                    que1 += 1\n",
    "            elif que2 < que1:\n",
    "                if status2 == 0:\n",
    "                    server2 = t + rand_server2.exponential(mu_2)\n",
    "                    status2 = 1\n",
    "                else:\n",
    "                    que2 += 1\n",
    "            elif rand_switch.random() < 0.5:\n",
    "                if status1 == 0:\n",
    "                    server1 = t + rand_server1.exponential(mu_1)\n",
    "                    status1 = 1\n",
    "                else:\n",
    "                    que1 += 1\n",
    "            else:\n",
    "                if status2 == 0:\n",
    "                    server2 = t + rand_server2.exponential(mu_2)\n",
    "                    status2 = 1\n",
    "                else:\n",
    "                    que2 += 1\n",
    "            #creating a new cutomer \n",
    "            customer = t + rand_customers.exponential(lambda_c)\n",
    "        else:\n",
    "            ready = min(server1, server2)\n",
    "            que_t += (ready - t) * (que1 + que2)\n",
    "            n_out += 1\n",
    "            t = ready\n",
    "            if server1 < server2:\n",
    "                if que1 == 0:\n",
    "                    status1 = 0\n",
    "                    server1 = 100000000\n",
    "                else:\n",
    "                    que1 -= 1\n",
    "                    server1 = t + np.random.exponential(mu_1)\n",
    "            elif que2 == 0:\n",
    "                status2 = 0\n",
    "                server2 = 100000000\n",
    "            else:\n",
    "                que2 -= 1\n",
    "                server2 = t + np.random.exponential(mu_2)\n",
    "    return que_t"
   ]
  },
  {
   "cell_type": "code",
   "execution_count": 557,
   "metadata": {},
   "outputs": [],
   "source": [
    "times1 = []\n",
    "times2 = []\n",
    "CRN_times1 = []\n",
    "CRN_times2 = []\n",
    "s = np.random\n",
    "hi = 10000\n",
    "lo = 1\n",
    "#simulationg 100 different iterations with independent random numbers and common random numbers\n",
    "for i in range(0,1000):\n",
    "    seed = int(time.time() / (i + 1))\n",
    "    times1.append(system(1, 0.6, 0.6, s.randint(lo,hi)))\n",
    "    times2.append(system(1, 0.3, 0.9, s.randint(lo,hi)))\n",
    "    CRN_times1.append(system(1, 0.6, 0.6, seed))\n",
    "    CRN_times2.append(system(1, 0.3, 0.9, seed))    \n",
    "\n"
   ]
  },
  {
   "cell_type": "code",
   "execution_count": 558,
   "metadata": {},
   "outputs": [
    {
     "name": "stdout",
     "output_type": "stream",
     "text": [
      "Independent mean: 0.279488793975\n",
      "Independent deviation: 7.84265023988\n",
      "CRN mean: 0.0158899907479\n",
      "CRN deviation: 6.62629895391\n"
     ]
    }
   ],
   "source": [
    "diff = np.array(times1) - np.array(times2)\n",
    "CRN_diff = np.array(CRN_times1) - np.array(CRN_times2)\n",
    "print(\"Independent mean: \" + str(np.mean(diff)))\n",
    "print(\"Independent deviation: \" + str(np.std(diff)))\n",
    "print(\"CRN mean: \" + str(np.mean(CRN_diff)))\n",
    "print(\"CRN deviation: \" + str(np.std(CRN_diff)))"
   ]
  },
  {
   "cell_type": "markdown",
   "metadata": {},
   "source": [
    "#### We see that with the common random numbers the standard deviation between the iterations is somewhat decreased. "
   ]
  },
  {
   "cell_type": "code",
   "execution_count": 534,
   "metadata": {},
   "outputs": [
    {
     "data": {
      "image/png": "[encoded data removed]",
      "text/plain": [
       "<matplotlib.figure.Figure at 0x7fed780f9048>"
      ]
     },
     "metadata": {},
     "output_type": "display_data"
    }
   ],
   "source": [
    "plt.figure(1, (20, 10))\n",
    "plt.subplot(121)\n",
    "plt.hist(diff, bins = list(range(-20,20, 5)))\n",
    "plt.subplot(122)\n",
    "plt.hist(CRN_diff, bins = list(range(-20,20, 5)))\n",
    "plt.show()"
   ]
  },
  {
   "cell_type": "markdown",
   "metadata": {},
   "source": [
    "#### The histogram of the que times reveals that with the common random numbers the histogram has a much higher peak. This means that the mass is centered around the center so the deviation is smaller."
   ]
  }
 ],
 "metadata": {
  "kernelspec": {
   "display_name": "Python 3",
   "language": "python",
   "name": "python3"
  },
  "language_info": {
   "codemirror_mode": {
    "name": "ipython",
    "version": 3
   },
   "file_extension": ".py",
   "mimetype": "text/x-python",
   "name": "python",
   "nbconvert_exporter": "python",
   "pygments_lexer": "ipython3",
   "version": "3.5.2"
  }
 },
 "nbformat": 4,
 "nbformat_minor": 2
}
