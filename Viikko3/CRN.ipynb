{
 "cells": [
  {
   "cell_type": "markdown",
   "metadata": {},
   "source": [
    "# Simulation\n",
    "## Assignment 3.1 – Common random numbers\n",
    "#### Ari Viitala 432568"
   ]
  },
  {
   "cell_type": "code",
   "execution_count": 200,
   "metadata": {},
   "outputs": [],
   "source": [
    "import numpy as np\n",
    "import time \n",
    "import matplotlib.pyplot as plt"
   ]
  },
  {
   "cell_type": "code",
   "execution_count": 77,
   "metadata": {},
   "outputs": [],
   "source": [
    "def system(lambda_c, mu_1, mu_2, seed_c, seed_s1, seed_s2, seed_s):\n",
    "    rand_customers = np.random\n",
    "    rand_server1 = np.random\n",
    "    rand_server2 = np.random \n",
    "    rand_switch = np.random\n",
    "    \n",
    "    rand_customers.seed(seed_c)\n",
    "    rand_server1.seed(seed_s1)\n",
    "    rand_server2.seed(seed_s2)\n",
    "    rand_switch.seed(seed_s)\n",
    "    \n",
    "    t = 0\n",
    "    n_out = 0\n",
    "    customer = rand_customers.exponential(lambda_c)\n",
    "    server1 = 10000000\n",
    "    server2 = 10000000\n",
    "    status1 = 0\n",
    "    status2 = 0\n",
    "    que1 = 0\n",
    "    que2 = 0\n",
    "    que_t = 0\n",
    "    \n",
    "    while n_out < 100:\n",
    "        #print(\"Que1: \" + str(que1))\n",
    "        #print(\"Que2: \" + str(que2))\n",
    "        if customer < min(server1, server2):\n",
    "            que_t += (customer - t) * (que1 + que2)\n",
    "            t = customer\n",
    "            \n",
    "            if que1 < que2:\n",
    "                if status1 == 0:\n",
    "                    server1 = t + rand_server1.exponential(mu_1)\n",
    "                    status1 = 1\n",
    "                else:\n",
    "                    que1 += 1\n",
    "            elif que2 < que1:\n",
    "                if status2 == 0:\n",
    "                    server2 = t + rand_server2.exponential(mu_2)\n",
    "                    status2 = 1\n",
    "                else:\n",
    "                    que2 += 1\n",
    "            elif rand_switch.random() < 0.5:\n",
    "                if status1 == 0:\n",
    "                    server1 = t + rand_server1.exponential(mu_1)\n",
    "                    status1 = 1\n",
    "                else:\n",
    "                    que1 += 1\n",
    "            else:\n",
    "                if status2 == 0:\n",
    "                    server2 = t + rand_server2.exponential(mu_2)\n",
    "                    status2 = 1\n",
    "                else:\n",
    "                    que2 += 1\n",
    "            customer = t + rand_customers.exponential(lambda_c)\n",
    "        else:\n",
    "            ready = min(server1, server2)\n",
    "            que_t += (ready - t) * (que1 + que2)\n",
    "            n_out += 1\n",
    "            t = ready\n",
    "            if server1 < server2:\n",
    "                if que1 == 0:\n",
    "                    status1 = 0\n",
    "                    server1 = 100000000\n",
    "                else:\n",
    "                    que1 -= 1\n",
    "                    server1 = t + np.random.exponential(mu_1)\n",
    "            elif que2 == 0:\n",
    "                status2 = 0\n",
    "                server2 = 100000000\n",
    "            else:\n",
    "                que2 -= 1\n",
    "                server2 = t + np.random.exponential(mu_2)\n",
    "    return que_t"
   ]
  },
  {
   "cell_type": "code",
   "execution_count": 250,
   "metadata": {},
   "outputs": [],
   "source": [
    "times1 = []\n",
    "times2 = []\n",
    "CRN_times1 = []\n",
    "CRN_times2 = []\n",
    "seeder = np.random\n",
    "seeder.seed(int(time.time()))\n",
    "for i in range(0,1000):\n",
    "    seed = int(time.time() / (i + 10))\n",
    "    times1.append(round(system(1, 0.6, 0.6, seeder.randint(1,100), seeder.randint(1,100), seeder.randint(1,100), seeder.randint(1,100)), 2))\n",
    "    times2.append(round(system(1, 0.3, 0.9, seeder.randint(1,100), seeder.randint(1,100), seeder.randint(1,100), seeder.randint(1,100)), 2))\n",
    "    CRN_times1.append(round(system(1, 0.6, 0.6, seed,seed,seed,seed), 2))\n",
    "    CRN_times2.append(round(system(1, 0.3, 0.9, seed,seed,seed,seed), 2))    \n",
    "\n"
   ]
  },
  {
   "cell_type": "code",
   "execution_count": 251,
   "metadata": {},
   "outputs": [
    {
     "name": "stdout",
     "output_type": "stream",
     "text": [
      "Independent mean: 0.14377\n",
      "Independent deviation: 7.95351622159\n",
      "CRN mean: 0.48954\n",
      "CRN deviation: 6.91342101918\n"
     ]
    }
   ],
   "source": [
    "diff = np.array(times1) - np.array(times2)\n",
    "CRN_diff = np.array(CRN_times1) - np.array(CRN_times2)\n",
    "print(\"Independent mean: \" + str(np.mean(diff)))\n",
    "print(\"Independent deviation: \" + str(np.std(diff)))\n",
    "print(\"CRN mean: \" + str(np.mean(CRN_diff)))\n",
    "print(\"CRN deviation: \" + str(np.std(CRN_diff)))\n"
   ]
  },
  {
   "cell_type": "code",
   "execution_count": 252,
   "metadata": {},
   "outputs": [
    {
     "data": {
      "text/plain": [
       "[<matplotlib.lines.Line2D at 0x7fed7c866710>]"
      ]
     },
     "execution_count": 252,
     "metadata": {},
     "output_type": "execute_result"
    },
    {
     "data": {
      "image/png": "[encoded data removed]",
      "text/plain": [
       "<matplotlib.figure.Figure at 0x7fed7c9cd240>"
      ]
     },
     "metadata": {},
     "output_type": "display_data"
    }
   ],
   "source": [
    "plt.plot(diff)\n",
    "plt.plot(CRN_diff)"
   ]
  },
  {
   "cell_type": "code",
   "execution_count": null,
   "metadata": {},
   "outputs": [],
   "source": []
  }
 ],
 "metadata": {
  "kernelspec": {
   "display_name": "Python 3",
   "language": "python",
   "name": "python3"
  },
  "language_info": {
   "codemirror_mode": {
    "name": "ipython",
    "version": 3
   },
   "file_extension": ".py",
   "mimetype": "text/x-python",
   "name": "python",
   "nbconvert_exporter": "python",
   "pygments_lexer": "ipython3",
   "version": "3.5.2"
  }
 },
 "nbformat": 4,
 "nbformat_minor": 2
}
