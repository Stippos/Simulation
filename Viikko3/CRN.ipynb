{
 "cells": [
  {
   "cell_type": "markdown",
   "metadata": {},
   "source": [
    "# Simulation\n",
    "## Assignment 3.1 – Common random numbers\n",
    "#### Ari Viitala 432568"
   ]
  },
  {
   "cell_type": "code",
   "execution_count": 474,
   "metadata": {},
   "outputs": [],
   "source": [
    "import numpy as np\n",
    "import matplotlib.pyplot as plt\n",
    "%matplotlib inline"
   ]
  },
  {
   "cell_type": "code",
   "execution_count": 626,
   "metadata": {},
   "outputs": [],
   "source": [
    "def system(lambda_c, mu_1, mu_2, seed):\n",
    "    #creating a random number generator which is seeded with the seed given as an argument \n",
    "    seeder = np.random\n",
    "    seeder.seed(seed)\n",
    "    #creating the random number streams for all different processes\n",
    "    rand_customers = np.random\n",
    "    rand_server1 = np.random\n",
    "    rand_server2 = np.random \n",
    "    rand_switch = np.random\n",
    "    #seeding the random number streams with the seeder random number generator\n",
    "    rand_customers.seed(seeder.randint(1,1000000))\n",
    "    rand_server1.seed(seeder.randint(1,1000000))\n",
    "    rand_server2.seed(seeder.randint(1,1000000))\n",
    "    rand_switch.seed(seeder.randint(1,1000000))\n",
    "    #the basic simulation variables like in every queue simulation\n",
    "    t = 0\n",
    "    n_out = 0\n",
    "    customer = rand_customers.exponential(lambda_c)\n",
    "    server1 = 10000000\n",
    "    server2 = 10000000\n",
    "    status1 = 0\n",
    "    status2 = 0\n",
    "    que1 = 0\n",
    "    que2 = 0\n",
    "    #total queuing time that is returned after the simulation\n",
    "    que_t = 0\n",
    "    \n",
    "    while n_out < 100:\n",
    "        #when a new customer arrives we update the queuetime    \n",
    "        if customer < min(server1, server2):\n",
    "            #update queue time \n",
    "            que_t += (customer - t) * (que1 + que2)\n",
    "            #update simulation clock\n",
    "            t = customer\n",
    "            #the horrible if-else mess that decides what to do based on que lengths server statuses\n",
    "            if que1 < que2:\n",
    "                #if server is empty\n",
    "                if status1 == 0:\n",
    "                    server1 = t + rand_server1.exponential(mu_1)\n",
    "                    status1 = 1\n",
    "                else:\n",
    "                    que1 += 1\n",
    "            elif que2 < que1:\n",
    "                if status2 == 0:\n",
    "                    server2 = t + rand_server2.exponential(mu_2)\n",
    "                    status2 = 1\n",
    "                else:\n",
    "                    que2 += 1\n",
    "            #if queues are equal length\n",
    "            elif rand_switch.random() < 0.5:\n",
    "                if status1 == 0:\n",
    "                    server1 = t + rand_server1.exponential(mu_1)\n",
    "                    status1 = 1\n",
    "                else:\n",
    "                    que1 += 1\n",
    "            else:\n",
    "                if status2 == 0:\n",
    "                    server2 = t + rand_server2.exponential(mu_2)\n",
    "                    status2 = 1\n",
    "                else:\n",
    "                    que2 += 1\n",
    "            #creating a new customer \n",
    "            customer = t + rand_customers.exponential(lambda_c)\n",
    "        else:\n",
    "            #see which server is ready\n",
    "            ready = min(server1, server2)\n",
    "            #update queuetime\n",
    "            que_t += (ready - t) * (que1 + que2)\n",
    "            n_out += 1\n",
    "            #update simulation clock\n",
    "            t = ready\n",
    "            #take a customer into a server from que or make the server empty\n",
    "            if server1 < server2:\n",
    "                if que1 == 0:\n",
    "                    status1 = 0\n",
    "                    server1 = 100000000\n",
    "                else:\n",
    "                    que1 -= 1\n",
    "                    server1 = t + np.random.exponential(mu_1)\n",
    "            elif que2 == 0:\n",
    "                status2 = 0\n",
    "                server2 = 100000000\n",
    "            else:\n",
    "                que2 -= 1\n",
    "                server2 = t + np.random.exponential(mu_2)\n",
    "    #return the total queuing time before the 100th customer leavest the system\n",
    "    return que_t"
   ]
  },
  {
   "cell_type": "markdown",
   "metadata": {},
   "source": [
    "#### The simulation does not take into account if there are people queuing while the 100th customer is being served and the time that 100th customer spends in the server is inclued also. However this is the same for all simulations and the effect should be small. Also here we consider the total queuing time. If we wanted the average this could be just divided by 100."
   ]
  },
  {
   "cell_type": "markdown",
   "metadata": {},
   "source": [
    "### Running the simulation"
   ]
  },
  {
   "cell_type": "code",
   "execution_count": 618,
   "metadata": {},
   "outputs": [],
   "source": [
    "#vectors to store the simulation results\n",
    "times1 = []\n",
    "times2 = []\n",
    "CRN_times1 = []\n",
    "CRN_times2 = []\n",
    "#the generator for seeding different runs of the simulations\n",
    "s = np.random\n",
    "hi = 1000000\n",
    "lo = 1\n",
    "#simulationg 100 different iterations with independent random numbers and common random numbers\n",
    "for i in range(0,100):\n",
    "    seed = s.randint(lo, hi)\n",
    "    #independent simulations\n",
    "    times1.append(system(1, 0.6, 0.6, s.randint(lo,hi)))\n",
    "    times2.append(system(1, 0.3, 0.9, s.randint(lo,hi)))\n",
    "    #CRN simulations \n",
    "    CRN_times1.append(system(1, 0.6, 0.6, seed))\n",
    "    CRN_times2.append(system(1, 0.3, 0.9, seed))    "
   ]
  },
  {
   "cell_type": "code",
   "execution_count": 622,
   "metadata": {},
   "outputs": [
    {
     "name": "stdout",
     "output_type": "stream",
     "text": [
      "Mean with independent random numbers: 0.923107010862\n",
      "Standard deviation with independent random numbers: 8.05283263445\n",
      "Mean with CRN: 0.862877740442\n",
      "Standard deviation with CRN: 7.09897934337\n"
     ]
    }
   ],
   "source": [
    "#taking the difference between different server speeds \n",
    "diff = np.array(times1) - np.array(times2)\n",
    "CRN_diff = np.array(CRN_times1) - np.array(CRN_times2)\n",
    "#calculating mean and standard deviation between the simulations with different server speeds\n",
    "print(\"Mean with independent random numbers: \" + str(np.mean(diff)))\n",
    "print(\"Standard deviation with independent random numbers: \" + str(np.std(diff)))\n",
    "print(\"Mean with CRN: \" + str(np.mean(CRN_diff)))\n",
    "print(\"Standard deviation with CRN: \" + str(np.std(CRN_diff)))"
   ]
  },
  {
   "cell_type": "markdown",
   "metadata": {},
   "source": [
    "#### We see that with common random numbers the standard deviation between the iterations is somewhat decreased. The mean is about the same between the cases. It seems that the configation with $\\mu_1 = 0.3$ and $\\mu_2 = 0.9$ is a bit faster since the mean is positive in both cases."
   ]
  },
  {
   "cell_type": "markdown",
   "metadata": {},
   "source": [
    "### Plotting histograms to visualize the distributions of the results"
   ]
  },
  {
   "cell_type": "code",
   "execution_count": 627,
   "metadata": {},
   "outputs": [
    {
     "data": {
      "image/png": "[encoded data removed]",
      "text/plain": [
       "<matplotlib.figure.Figure at 0x7fed77851898>"
      ]
     },
     "metadata": {},
     "output_type": "display_data"
    }
   ],
   "source": [
    "plt.figure(1, (20, 10))\n",
    "plt.subplot(121)\n",
    "plt.hist(diff, bins = list(range(-20,24, 4)))\n",
    "plt.xlabel(\"Difference between queue times\")\n",
    "plt.ylabel(\"Frequency\")\n",
    "plt.title(\"Independent random\")\n",
    "plt.subplot(122)\n",
    "plt.hist(CRN_diff, bins = list(range(-20,24, 4)))\n",
    "plt.xlabel(\"Difference between queue times\")\n",
    "plt.ylabel(\"Frequency\")\n",
    "plt.title(\"Common random\")\n",
    "plt.show()"
   ]
  },
  {
   "cell_type": "markdown",
   "metadata": {},
   "source": [
    "#### The histogram of the queue time differences reveals that with the common random numbers the histogram has a much higher peak. This means that there is more mass around the center so the deviation is smaller."
   ]
  }
 ],
 "metadata": {
  "kernelspec": {
   "display_name": "Python 3",
   "language": "python",
   "name": "python3"
  },
  "language_info": {
   "codemirror_mode": {
    "name": "ipython",
    "version": 3
   },
   "file_extension": ".py",
   "mimetype": "text/x-python",
   "name": "python",
   "nbconvert_exporter": "python",
   "pygments_lexer": "ipython3",
   "version": "3.5.2"
  }
 },
 "nbformat": 4,
 "nbformat_minor": 2
}
