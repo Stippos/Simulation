{
 "cells": [
  {
   "cell_type": "markdown",
   "metadata": {},
   "source": [
    "# Simulation\n",
    "## Assignment 3.1 – Common random numbers\n",
    "#### Ari Viitala 432568"
   ]
  },
  {
   "cell_type": "code",
   "execution_count": 132,
   "metadata": {},
   "outputs": [],
   "source": [
    "import numpy as np\n",
    "import matplotlib.pyplot as plt\n",
    "%matplotlib inline"
   ]
  },
  {
   "cell_type": "markdown",
   "metadata": {},
   "source": [
    "### The simulation code"
   ]
  },
  {
   "cell_type": "code",
   "execution_count": 131,
   "metadata": {},
   "outputs": [],
   "source": [
    "def system2(lambda_c, mu_1, mu_2, seed):\n",
    "    #creating a random number generator which is seeded with the seed given as an argument \n",
    "    seeder = np.random.RandomState()\n",
    "    seeder.seed(seed)\n",
    "    #creating the random number streams for all different processes\n",
    "    rand_customers = np.random.RandomState()\n",
    "    rand_server = np.random.RandomState()\n",
    "    rand_switch = np.random.RandomState()\n",
    "    #seeding the random number streams with the seeder random number generator\n",
    "    rand_customers.seed(seeder.randint(1,1000000))\n",
    "    rand_server.seed(seeder.randint(1,1000000))\n",
    "    rand_switch.seed(seeder.randint(1,1000000))\n",
    "    #the basic simulation variables like in every queue simulation\n",
    "    t = 0\n",
    "    n_out = 0\n",
    "    customer = rand_customers.exponential(lambda_c)\n",
    "    server1 = 10000000\n",
    "    server2 = 10000000\n",
    "    status1 = 0\n",
    "    status2 = 0\n",
    "    que1 = []\n",
    "    que2 = []\n",
    "    #total queuing time that is returned after the simulation\n",
    "    que_t = 0\n",
    "    \n",
    "    while n_out < 100:\n",
    "        #when a new customer arrives we update the queuetime    \n",
    "        if customer < min(server1, server2):\n",
    "            #update queue time \n",
    "            que_t += (customer - t) * (len(que1) + len(que2))\n",
    "            #update simulation clock\n",
    "            t = customer\n",
    "            #the horrible if-else mess that decides what to do based on que lengths server statuses\n",
    "            if len(que1) + status1 < len(que2) + status2:\n",
    "                #if server is empty\n",
    "                if status1 == 0:\n",
    "                    #put person in server\n",
    "                    server1 = t + rand_server.exponential(mu_1)\n",
    "                    status1 = 1\n",
    "                else:\n",
    "                    #else put him in the que with their service time\n",
    "                    #we calculate the service time here, since we want each customer to have similar service times in each simulation               \n",
    "                    que1.append(rand_server.exponential(mu_1))\n",
    "            elif len(que2) + status2 < len(que1) + status1:\n",
    "                if status2 == 0:\n",
    "                    server2 = t + rand_server.exponential(mu_2)\n",
    "                    status2 = 1\n",
    "                else:\n",
    "                    que2.append(rand_server.exponential(mu_2))\n",
    "            #if queues are equal length\n",
    "            elif rand_switch.rand() < 0.5:\n",
    "                if status1 == 0:\n",
    "                    server1 = t + rand_server.exponential(mu_1)\n",
    "                    status1 = 1\n",
    "                else:\n",
    "                    que1.append(rand_server.exponential(mu_1))\n",
    "            else:\n",
    "                if status2 == 0:\n",
    "                    server2 = t + rand_server.exponential(mu_2)\n",
    "                    status2 = 1\n",
    "                else:\n",
    "                    que2.append(rand_server.exponential(mu_2))\n",
    "            #creating a new customer \n",
    "            customer = t + rand_customers.exponential(lambda_c)\n",
    "        else:\n",
    "            #see which server is ready\n",
    "            ready = min(server1, server2)\n",
    "            #update queue time\n",
    "            que_t += (ready - t) * (len(que1) + len(que2))\n",
    "            n_out += 1\n",
    "            #update simulation clock\n",
    "            t = ready\n",
    "            #take a customer into a server from que or make the server empty\n",
    "            if server1 < server2:\n",
    "                if len(que1) == 0:\n",
    "                    status1 = 0\n",
    "                    server1 = 100000000\n",
    "                else:\n",
    "                    #now we use the pre determined service time from the que\n",
    "                    server1 = t + que1.pop(0)\n",
    "            elif len(que2) == 0:\n",
    "                status2 = 0\n",
    "                server2 = 100000000\n",
    "            else:\n",
    "                server2 = t + que2.pop(0)\n",
    "    #return the total queuing time before the 100th customer leavest the system\n",
    "    return que_t / 100"
   ]
  },
  {
   "cell_type": "markdown",
   "metadata": {},
   "source": [
    "#### The simulation does not take into account if there are people queuing while the 100th customer is being served and the time that 100th customer spends in the server is inclued also. However this is the same for all simulations and the effect should be small."
   ]
  },
  {
   "cell_type": "markdown",
   "metadata": {},
   "source": [
    "### Running the simulation"
   ]
  },
  {
   "cell_type": "code",
   "execution_count": 127,
   "metadata": {},
   "outputs": [],
   "source": [
    "#vectors to store the simulation results\n",
    "times1 = []\n",
    "times2 = []\n",
    "CRN_times1 = []\n",
    "CRN_times2 = []\n",
    "#the generator for seeding different runs of the simulations\n",
    "s = np.random\n",
    "hi = 1000000\n",
    "lo = 1\n",
    "#simulationg 100 different iterations with independent random numbers and common random numbers\n",
    "for i in range(0,100):\n",
    "    seed = s.randint(lo, hi)\n",
    "    #independent simulations\n",
    "    times1.append(system2(1, 1/0.6, 1/0.6, s.randint(lo,hi)))\n",
    "    times2.append(system2(1, 1/0.3, 1/0.9, s.randint(lo,hi)))\n",
    "    #CRN simulations \n",
    "    CRN_times1.append(system2(1, 1/0.6, 1/0.6, seed))\n",
    "    CRN_times2.append(system2(1, 1/0.3, 1/0.9, seed))"
   ]
  },
  {
   "cell_type": "code",
   "execution_count": 128,
   "metadata": {},
   "outputs": [
    {
     "name": "stdout",
     "output_type": "stream",
     "text": [
      "Mean with independent random numbers: -0.600961749712\n",
      "Standard deviation with independent random numbers: 3.21045839022\n",
      "Mean with CRN: -0.595224667869\n",
      "Standard deviation with CRN: 0.533150006403\n"
     ]
    }
   ],
   "source": [
    "#taking the difference between different server speeds \n",
    "diff = np.array(times1) - np.array(times2)\n",
    "CRN_diff = np.array(CRN_times1) - np.array(CRN_times2)\n",
    "#calculating mean and standard deviation between the simulations with different server speeds\n",
    "print(\"Mean with independent random numbers: \" + str(np.mean(diff)))\n",
    "print(\"Standard deviation with independent random numbers: \" + str(np.std(diff)))\n",
    "print(\"Mean with CRN: \" + str(np.mean(CRN_diff)))\n",
    "print(\"Standard deviation with CRN: \" + str(np.std(CRN_diff)))"
   ]
  },
  {
   "cell_type": "markdown",
   "metadata": {},
   "source": [
    "#### We see that with common random numbers the standard deviation between the iterations is greatly decreased. The mean is about the same between the cases so it seems that the configuration with $\\mu_1 = 0.3$ and $\\mu_2 = 0.9$ is a bit slower since the mean is negative in both cases. "
   ]
  },
  {
   "cell_type": "markdown",
   "metadata": {},
   "source": [
    "### Plotting scatter plots and histograms to visualize the distributions of the results"
   ]
  },
  {
   "cell_type": "code",
   "execution_count": 129,
   "metadata": {},
   "outputs": [
    {
     "data": {
      "text/plain": [
       "<matplotlib.text.Text at 0x7f623c0727f0>"
      ]
     },
     "execution_count": 129,
     "metadata": {},
     "output_type": "execute_result"
    },
    {
     "data": {
      "image/png": "[encoded data removed]",
      "text/plain": [
       "<matplotlib.figure.Figure at 0x7f623c374898>"
      ]
     },
     "metadata": {},
     "output_type": "display_data"
    }
   ],
   "source": [
    "plt.figure(1, (20,7))\n",
    "plt.subplot(121)\n",
    "plt.scatter(times1, times2)\n",
    "plt.xlabel(\"Time for system 1\")\n",
    "plt.ylabel(\"Time for system 2\")\n",
    "plt.title(\"Independent random numbers\")\n",
    "plt.subplot(122)\n",
    "plt.scatter(CRN_times1, CRN_times2)\n",
    "plt.xlabel(\"Time for system 1\")\n",
    "plt.ylabel(\"Time for system 2\")\n",
    "plt.title(\"Common random numbers\")"
   ]
  },
  {
   "cell_type": "code",
   "execution_count": 130,
   "metadata": {},
   "outputs": [
    {
     "name": "stdout",
     "output_type": "stream",
     "text": [
      "The correlation matrix for system times:\n",
      "[[ 1.          0.97618191]\n",
      " [ 0.97618191  1.        ]]\n"
     ]
    }
   ],
   "source": [
    "print(\"The correlation matrix for system times:\")\n",
    "print(np.corrcoef(CRN_times1, CRN_times2))"
   ]
  },
  {
   "cell_type": "markdown",
   "metadata": {},
   "source": [
    "#### Scatterplots of the times for both independent and common random numbers and the correlation matrix reveal that there is heavy correlation between times for the common random numbers."
   ]
  },
  {
   "cell_type": "code",
   "execution_count": 135,
   "metadata": {},
   "outputs": [
    {
     "data": {
      "image/png": "[encoded data removed]",
      "text/plain": [
       "<matplotlib.figure.Figure at 0x7f623ba87160>"
      ]
     },
     "metadata": {},
     "output_type": "display_data"
    }
   ],
   "source": [
    "plt.figure(1, (20, 7))\n",
    "plt.subplot(121)\n",
    "plt.hist(diff, bins = list(range(-20,24, 3)))\n",
    "plt.xlabel(\"Difference between queue times\")\n",
    "plt.ylabel(\"Frequency\")\n",
    "plt.title(\"Independent random\")\n",
    "plt.subplot(122)\n",
    "plt.hist(CRN_diff, bins = list(range(-20,24, 3)))\n",
    "plt.xlabel(\"Difference between queue times\")\n",
    "plt.ylabel(\"Frequency\")\n",
    "plt.title(\"Common random\")\n",
    "plt.show()"
   ]
  },
  {
   "cell_type": "markdown",
   "metadata": {},
   "source": [
    "#### From the histogram of the queue time differences we see that with common random numbers the histogram has a much higher peak. This means that the deviation in differences is much smaller. Clearly, using common random numbers between simulations we can decrease the standard deviation withing simulation runs without increasing the amount of iterations."
   ]
  }
 ],
 "metadata": {
  "kernelspec": {
   "display_name": "Python 3",
   "language": "python",
   "name": "python3"
  },
  "language_info": {
   "codemirror_mode": {
    "name": "ipython",
    "version": 3
   },
   "file_extension": ".py",
   "mimetype": "text/x-python",
   "name": "python",
   "nbconvert_exporter": "python",
   "pygments_lexer": "ipython3",
   "version": "3.5.2"
  }
 },
 "nbformat": 4,
 "nbformat_minor": 2
}
