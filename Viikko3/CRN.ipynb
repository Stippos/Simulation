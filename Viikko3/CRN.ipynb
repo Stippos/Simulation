{
 "cells": [
  {
   "cell_type": "markdown",
   "metadata": {},
   "source": [
    "# Simulation\n",
    "## Assignment 3.1 – Common random numbers\n",
    "#### Ari Viitala 432568"
   ]
  },
  {
   "cell_type": "code",
   "execution_count": 14,
   "metadata": {},
   "outputs": [],
   "source": [
    "import numpy as np"
   ]
  },
  {
   "cell_type": "code",
   "execution_count": 19,
   "metadata": {},
   "outputs": [],
   "source": [
    "def system(lambda_c, mu_1, mu_2):\n",
    "    \n",
    "    t = 0\n",
    "    n_out = 0\n",
    "    customer = np.random.exponential(lambda_c)\n",
    "    server1 = 10000000\n",
    "    server2 = 10000000\n",
    "    status1 = 0\n",
    "    status2 = 0\n",
    "    que1 = 0\n",
    "    que2 = 0\n",
    "    que_t = 0\n",
    "    \n",
    "    while n_out < 100:\n",
    "        #print(\"Que1: \" + str(que1))\n",
    "        #print(\"Que2: \" + str(que2))\n",
    "        if customer < min(server1, server2):\n",
    "            que_t += (customer - t) * (que1 + que2)\n",
    "            t = customer\n",
    "            \n",
    "            if que1 < que2:\n",
    "                if status1 == 0:\n",
    "                    server1 = t + np.random.exponential(mu_1)\n",
    "                    status1 = 1\n",
    "                else:\n",
    "                    que1 += 1\n",
    "            elif que2 < que1:\n",
    "                if status2 == 0:\n",
    "                    server2 = t + np.random.exponential(mu_2)\n",
    "                    status2 = 1\n",
    "                else:\n",
    "                    que2 += 1\n",
    "            elif np.random.random() < 0.5:\n",
    "                if status1 == 0:\n",
    "                    server1 = t + np.random.exponential(mu_1)\n",
    "                    status1 = 1\n",
    "                else:\n",
    "                    que1 += 1\n",
    "            else:\n",
    "                if status2 == 0:\n",
    "                    server2 = t + np.random.exponential(mu_2)\n",
    "                    status2 = 1\n",
    "                else:\n",
    "                    que2 += 1\n",
    "            customer = t + np.random.exponential(lambda_c)\n",
    "        else:\n",
    "            ready = min(server1, server2)\n",
    "            que_t += (ready - t) * (que1 + que2)\n",
    "            n_out += 1\n",
    "            t = ready\n",
    "            if server1 < server2:\n",
    "                if que1 == 0:\n",
    "                    status1 = 0\n",
    "                    server1 = 100000000\n",
    "                else:\n",
    "                    que1 -= 1\n",
    "                    server1 = t + np.random.exponential(mu_1)\n",
    "            elif que2 == 0:\n",
    "                status2 = 0\n",
    "                server2 = 100000000\n",
    "            else:\n",
    "                que2 -= 1\n",
    "                server2 = t + np.random.exponential(mu_1)\n",
    "    return que_t"
   ]
  },
  {
   "cell_type": "code",
   "execution_count": null,
   "metadata": {},
   "outputs": [],
   "source": [
    "times = []\n",
    "\n",
    "for i in range(0,100):\n",
    "    times.append(system(1, 0.6, 0.6))"
   ]
  }
 ],
 "metadata": {
  "kernelspec": {
   "display_name": "Python 3",
   "language": "python",
   "name": "python3"
  },
  "language_info": {
   "codemirror_mode": {
    "name": "ipython",
    "version": 3
   },
   "file_extension": ".py",
   "mimetype": "text/x-python",
   "name": "python",
   "nbconvert_exporter": "python",
   "pygments_lexer": "ipython3",
   "version": "3.5.2"
  }
 },
 "nbformat": 4,
 "nbformat_minor": 2
}
