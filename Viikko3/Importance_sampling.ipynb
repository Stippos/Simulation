{
 "cells": [
  {
   "cell_type": "markdown",
   "metadata": {},
   "source": [
    "# Simulation\n",
    "## Assignment 3.2 – Importance sampling\n",
    "#### Ari Viitala 432568"
   ]
  },
  {
   "cell_type": "code",
   "execution_count": 40,
   "metadata": {},
   "outputs": [],
   "source": [
    "import numpy as np"
   ]
  },
  {
   "cell_type": "markdown",
   "metadata": {},
   "source": [
    "### Classic Monte-Carlo"
   ]
  },
  {
   "cell_type": "code",
   "execution_count": 34,
   "metadata": {},
   "outputs": [],
   "source": [
    "def path(l, m, c):\n",
    "    up = l / (l + m)\n",
    "    state = 1\n",
    "    while state > 0 and state < c + 1:\n",
    "        if np.random.random() < up:\n",
    "            state += 1\n",
    "        else:\n",
    "            state -= 1\n",
    "    if state == 0:\n",
    "        return 0\n",
    "    else:\n",
    "        return 1  "
   ]
  },
  {
   "cell_type": "code",
   "execution_count": 39,
   "metadata": {},
   "outputs": [
    {
     "name": "stdout",
     "output_type": "stream",
     "text": [
      "Probability of queue hitting 3: 0.17258\n",
      "Probability of queue hitting 5: 0.08835\n",
      "Probability of queue hitting 7: 0.04946\n"
     ]
    }
   ],
   "source": [
    "l = 1.0\n",
    "m = 5.0/4.0\n",
    "c3 = 3\n",
    "c5 = 5\n",
    "c7 = 7\n",
    "counter3 = 0\n",
    "counter5 = 0\n",
    "counter7 = 0\n",
    "iterations = 100000\n",
    "for i in range(0, iterations):\n",
    "    counter3 += path(l, m, c3)\n",
    "    counter5 += path(l, m, c5)\n",
    "    counter7 += path(l, m, c7)\n",
    "    \n",
    "print(\"Probability of queue hitting 3: \" + str(counter3 / iterations))\n",
    "print(\"Probability of queue hitting 5: \" + str(counter5 / iterations))\n",
    "print(\"Probability of queue hitting 7: \" + str(counter7 / iterations))"
   ]
  },
  {
   "cell_type": "markdown",
   "metadata": {},
   "source": [
    "### Importance sampling"
   ]
  },
  {
   "cell_type": "code",
   "execution_count": null,
   "metadata": {},
   "outputs": [],
   "source": [
    "l = 5.0 / 4.0\n",
    "m = 1.0\n"
   ]
  }
 ],
 "metadata": {
  "kernelspec": {
   "display_name": "Python 3",
   "language": "python",
   "name": "python3"
  },
  "language_info": {
   "codemirror_mode": {
    "name": "ipython",
    "version": 3
   },
   "file_extension": ".py",
   "mimetype": "text/x-python",
   "name": "python",
   "nbconvert_exporter": "python",
   "pygments_lexer": "ipython3",
   "version": "3.5.2"
  }
 },
 "nbformat": 4,
 "nbformat_minor": 2
}
