{
 "cells": [
  {
   "cell_type": "markdown",
   "metadata": {},
   "source": [
    "# Simulation\n",
    "## Assignment 3.2 – Importance sampling\n",
    "#### Ari Viitala 432568"
   ]
  },
  {
   "cell_type": "code",
   "execution_count": 55,
   "metadata": {},
   "outputs": [],
   "source": [
    "import numpy as np"
   ]
  },
  {
   "cell_type": "markdown",
   "metadata": {},
   "source": [
    "### Classic Monte-Carlo"
   ]
  },
  {
   "cell_type": "code",
   "execution_count": 122,
   "metadata": {},
   "outputs": [],
   "source": [
    "def path(c):\n",
    "    p = 1.0 / (1 + 5/4.0)\n",
    "    #the length of the que\n",
    "    state = 1\n",
    "    while state > 0 and state < c + 1:\n",
    "        if np.random.random() < p:\n",
    "            #if the que length increases we add a person\n",
    "            state += 1\n",
    "        else:\n",
    "            #else we substract a person\n",
    "            state -= 1\n",
    "    #if we hit 0 we return zero, else we return 1\n",
    "    if state == 0:\n",
    "        return 0\n",
    "    else:\n",
    "        return 1  "
   ]
  },
  {
   "cell_type": "code",
   "execution_count": 121,
   "metadata": {},
   "outputs": [
    {
     "name": "stdout",
     "output_type": "stream",
     "text": [
      "Probability of queue hitting 3: 0.17448\n",
      "Probability of queue hitting 5: 0.08813\n",
      "Probability of queue hitting 7: 0.05078\n"
     ]
    }
   ],
   "source": [
    "#different target values\n",
    "c3 = 3\n",
    "c5 = 5\n",
    "c7 = 7\n",
    "#counters for different target values\n",
    "counter3 = 0\n",
    "counter5 = 0\n",
    "counter7 = 0\n",
    "iterations = 100000\n",
    "for i in range(0, iterations):\n",
    "    #for each iteration calculate one instace of all the different targets\n",
    "    counter3 += path(c3)\n",
    "    counter5 += path(c5)\n",
    "    counter7 += path(c7)\n",
    "\n",
    "#print the estimared probabilities\n",
    "print(\"Probability of queue hitting 3: \" + str(counter3 / iterations))\n",
    "print(\"Probability of queue hitting 5: \" + str(counter5 / iterations))\n",
    "print(\"Probability of queue hitting 7: \" + str(counter7 / iterations))"
   ]
  },
  {
   "cell_type": "markdown",
   "metadata": {},
   "source": [
    "#### The algortihm seems to be OK, since the c = 3 case gives the given result"
   ]
  },
  {
   "cell_type": "markdown",
   "metadata": {},
   "source": [
    "### Importance sampling"
   ]
  },
  {
   "cell_type": "code",
   "execution_count": 74,
   "metadata": {},
   "outputs": [],
   "source": [
    "def IS(c):\n",
    "    p_star = (5.0 / 4.0) / (1 + 5/4.0)\n",
    "    p = 1.0 / (1 + 5/4.0)\n",
    "    state = 1\n",
    "    arrivals = 0\n",
    "    completions = 0\n",
    "    #first simulate the queue and save the arrivals and completions \n",
    "    while state > 0 and state < c + 1:\n",
    "        if np.random.random() < p_star:\n",
    "            state += 1\n",
    "            arrivals += 1\n",
    "        else:\n",
    "            state -= 1\n",
    "            completions += 1\n",
    "    \n",
    "    #returns zero or the term inside the summation in the importance sampling formula \n",
    "    if state == 0:\n",
    "        return 0\n",
    "    else:\n",
    "        return ((p / p_star)**arrivals) * (((1 - p) / (1 - p_star))**completions)"
   ]
  },
  {
   "cell_type": "code",
   "execution_count": 118,
   "metadata": {},
   "outputs": [
    {
     "name": "stdout",
     "output_type": "stream",
     "text": [
      "Probability of queue hitting 3: 0.17389056000005912\n",
      "Probability of queue hitting 5: 0.08823111680004211\n",
      "Probability of queue hitting 7: 0.05041343692799139\n"
     ]
    }
   ],
   "source": [
    "#do the same thing for importance sampling as we did before for Monte-Carlo\n",
    "c3 = 3\n",
    "c5 = 5\n",
    "c7 = 7\n",
    "counter3 = 0\n",
    "counter5 = 0\n",
    "counter7 = 0\n",
    "iterations = 100000\n",
    "for i in range(0, iterations):\n",
    "    counter3 += IS(c3)\n",
    "    counter5 += IS(c5)\n",
    "    counter7 += IS(c7)\n",
    "    \n",
    "print(\"Probability of queue hitting 3: \" + str(counter3 / iterations))\n",
    "print(\"Probability of queue hitting 5: \" + str(counter5 / iterations))\n",
    "print(\"Probability of queue hitting 7: \" + str(counter7 / iterations))"
   ]
  },
  {
   "cell_type": "markdown",
   "metadata": {},
   "source": [
    "#### This one also seems to be OK."
   ]
  },
  {
   "cell_type": "markdown",
   "metadata": {},
   "source": [
    "### Comparing variances\n",
    "Let's simulate 100 different paths to give us an estimate on the $\\gamma$ and do that 100 times and calculate the variance in both regular Monte-Carlo and importance sampling."
   ]
  },
  {
   "cell_type": "code",
   "execution_count": 76,
   "metadata": {},
   "outputs": [],
   "source": [
    "#functions for estimating the probability of hitting certain queue length for both functions\n",
    "def estimateMC(c, iterations):\n",
    "    runs = []\n",
    "    for i in range(0, iterations):\n",
    "        runs.append(path(c))\n",
    "    return np.mean(runs)\n",
    "\n",
    "def estimateIS(c, iterations):\n",
    "    runs = []\n",
    "    for i in range(0, iterations):\n",
    "        runs.append(IS(c))\n",
    "    return np.mean(runs)"
   ]
  },
  {
   "cell_type": "code",
   "execution_count": 125,
   "metadata": {},
   "outputs": [],
   "source": [
    "iterations = 100\n",
    "estimation_iterations = 100\n",
    "#make numpy arrays to store the results\n",
    "moca = np.empty((iterations, 3), dtype = float)\n",
    "imsa = np.empty((iterations, 3), dtype = float)\n",
    "\n",
    "#calculate estimates for different queue lengths and save the results  \n",
    "for i in range(0, iterations):\n",
    "    for j in range(0,3):\n",
    "        moca[i, j] = estimateMC(3 + 2*j, estimation_iterations)\n",
    "        imsa[i, j] = estimateIS(3 + 2*j, estimation_iterations)\n",
    "\n",
    "#calculate the means and standard deviations of estimates from both methods        \n",
    "mc_mean = np.mean(moca, 0)\n",
    "mc_std = np.std(moca, 0)\n",
    "is_mean = np.mean(imsa, 0)\n",
    "is_std = np.std(imsa, 0)"
   ]
  },
  {
   "cell_type": "code",
   "execution_count": 126,
   "metadata": {},
   "outputs": [
    {
     "name": "stdout",
     "output_type": "stream",
     "text": [
      "             c = 3    c = 5    c = 7    \n",
      "Mean MC:     0.1706   0.0821   0.0479\n",
      "Mean IS:     0.1709   0.0899   0.0500\n",
      "Std MC:      0.0408   0.0281   0.0209\n",
      "Std IS:      0.0234   0.0166   0.0089\n"
     ]
    }
   ],
   "source": [
    "print(\"{:13}{:9}{:9}{:9}\".format(\"\",\"c = 3\", \"c = 5\", \"c = 7\"))\n",
    "print(\"{:10}{:9.4f}{:9.4f}{:9.4f}\".format(\"Mean MC:\", mc_mean[0], mc_mean[1], mc_mean[2]))\n",
    "print(\"{:10}{:9.4f}{:9.4f}{:9.4f}\".format(\"Mean IS:\", is_mean[0], is_mean[1], is_mean[2]))\n",
    "print(\"{:10}{:9.4f}{:9.4f}{:9.4f}\".format(\"Std MC:\", mc_std[0], mc_std[1], mc_std[2]))\n",
    "print(\"{:10}{:9.4f}{:9.4f}{:9.4f}\".format(\"Std IS:\", is_std[0], is_std[1], is_std[2]))"
   ]
  },
  {
   "cell_type": "markdown",
   "metadata": {},
   "source": [
    "We can see that importance sampling gives us notably smaller standard deviations in all of the cases but the effect is especially clear in the case of $c=7$ where the occurrance of the event is much lower. There importance sampling has a standard deviation that is over 2 times smaller than the basic Monte-Carlo equivelant. "
   ]
  }
 ],
 "metadata": {
  "kernelspec": {
   "display_name": "Python 3",
   "language": "python",
   "name": "python3"
  },
  "language_info": {
   "codemirror_mode": {
    "name": "ipython",
    "version": 3
   },
   "file_extension": ".py",
   "mimetype": "text/x-python",
   "name": "python",
   "nbconvert_exporter": "python",
   "pygments_lexer": "ipython3",
   "version": "3.5.2"
  }
 },
 "nbformat": 4,
 "nbformat_minor": 2
}
