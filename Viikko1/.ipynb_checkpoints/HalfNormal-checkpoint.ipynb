{
 "cells": [
  {
   "cell_type": "code",
   "execution_count": 4,
   "metadata": {},
   "outputs": [],
   "source": [
    "import numpy as np\n",
    "import matplotlib.pyplot as plt"
   ]
  },
  {
   "cell_type": "code",
   "execution_count": 5,
   "metadata": {},
   "outputs": [],
   "source": [
    "def halfNormal():\n",
    "    #from the lecture slides    \n",
    "    c = np.sqrt(2 * np.e / np.pi)\n",
    "    \n",
    "    #the counter for tries needed for viable number. At least one is needed.\n",
    "    needed = 1\n",
    "    \n",
    "    while True:\n",
    "        #sample number from g(x, lambda = 1)\n",
    "        y = np.random.exponential(1)\n",
    "        #sample numeber from u(0,1)\n",
    "        u = np.random.random()\n",
    "        #calculate f(x)\n",
    "        f = 2 / np.sqrt(2 * np.pi) * np.exp(-y**2 / 2)\n",
    "        #calculate g(x)\n",
    "        g = np.exp(-y)\n",
    "        \n",
    "        if u <= f/(g*c): \n",
    "            #if number is viable return it and the number of tries\n",
    "            return (y, needed)\n",
    "        else:\n",
    "            #else increase the tries and loop again\n",
    "            needed += 1"
   ]
  },
  {
   "cell_type": "code",
   "execution_count": 9,
   "metadata": {},
   "outputs": [],
   "source": [
    "#making the vectors to store the numbers\n",
    "halfNormals = []\n",
    "rejections = []\n",
    "\n",
    "#drawing 200000 numbers from the half normal distribution and storing the values and the amount of tries needed\n",
    "for i in range(0,200000):\n",
    "    number = halfNormal()\n",
    "    halfNormals.append(number[0])\n",
    "    rejections.append(number[1])\n",
    "    "
   ]
  },
  {
   "cell_type": "code",
   "execution_count": 10,
   "metadata": {},
   "outputs": [],
   "source": [
    "%matplotlib inline"
   ]
  },
  {
   "cell_type": "code",
   "execution_count": 11,
   "metadata": {},
   "outputs": [
    {
     "data": {
      "image/png": "[encoded data removed]",
      "text/plain": [
       "<matplotlib.figure.Figure at 0x7f16137d1908>"
      ]
     },
     "metadata": {},
     "output_type": "display_data"
    }
   ],
   "source": [
    "plt.figure(1, (10,7))\n",
    "plt.hist(halfNormals, bins = 100)\n",
    "plt.show()"
   ]
  },
  {
   "cell_type": "markdown",
   "metadata": {},
   "source": [
    "The histogram seems like it is sampled a half normal distribution."
   ]
  },
  {
   "cell_type": "code",
   "execution_count": 12,
   "metadata": {},
   "outputs": [
    {
     "data": {
      "text/plain": [
       "1.3172900000000001"
      ]
     },
     "execution_count": 12,
     "metadata": {},
     "output_type": "execute_result"
    }
   ],
   "source": [
    "#The average number of tries needed on average\n",
    "np.mean(rejections)"
   ]
  },
  {
   "cell_type": "code",
   "execution_count": 13,
   "metadata": {},
   "outputs": [
    {
     "data": {
      "text/plain": [
       "1.3154892469589139"
      ]
     },
     "execution_count": 13,
     "metadata": {},
     "output_type": "execute_result"
    }
   ],
   "source": [
    "#value of C\n",
    "c = np.sqrt(2 * np.e / np.pi)\n",
    "c"
   ]
  },
  {
   "cell_type": "markdown",
   "metadata": {},
   "source": [
    "The value c and the average number of tries needed to get a number that is distributed like we want it be is pretty much the same. This means that the smaller the largest distance between the two density functions the smaller the expected tries to get a viable number hence shorter the runtime. So for efficient generating algorithm we should choose function g(x) that is as close to f(x) as possible."
   ]
  }
 ],
 "metadata": {
  "kernelspec": {
   "display_name": "Python 3",
   "language": "python",
   "name": "python3"
  },
  "language_info": {
   "codemirror_mode": {
    "name": "ipython",
    "version": 3
   },
   "file_extension": ".py",
   "mimetype": "text/x-python",
   "name": "python",
   "nbconvert_exporter": "python",
   "pygments_lexer": "ipython3",
   "version": "3.5.2"
  }
 },
 "nbformat": 4,
 "nbformat_minor": 2
}
