{
 "cells": [
  {
   "cell_type": "code",
   "execution_count": 18,
   "metadata": {},
   "outputs": [],
   "source": [
    "import numpy as np\n",
    "import matplotlib.pyplot as plt\n",
    "import queue"
   ]
  },
  {
   "cell_type": "code",
   "execution_count": 102,
   "metadata": {},
   "outputs": [],
   "source": [
    "def day(n_taxis):\n",
    "    lambda_taxi = 11.5\n",
    "    lambda_customer = 3\n",
    "    t = 0\n",
    "    customer = np.random.exponential(lambda_customer)\n",
    "    next_taxi = 1000000\n",
    "    \n",
    "    intake = 0\n",
    "    outtake= 0\n",
    "    \n",
    "    taxis = []\n",
    "    queue = []\n",
    "    \n",
    "    served = 0\n",
    "    \n",
    "    while t < 600:\n",
    "        if customer < next_taxi:            \n",
    "            if len(taxis) < n_taxis:\n",
    "                intake += 1\n",
    "                taxis.append(customer + np.random.exponential(lambda_taxi))\n",
    "                taxis = sorted(taxis)\n",
    "            elif len(queue) < 16:\n",
    "                queue.append(customer)\n",
    "        \n",
    "            t = customer\n",
    "            customer += np.random.exponential(lambda_customer)\n",
    "            next_taxi = taxis[0]\n",
    "        \n",
    "        else:\n",
    "            taxis.pop(0)    \n",
    "            outtake += 1\n",
    "            if len(queue) > 0:\n",
    "                intake += 1\n",
    "                taxis.append(next_taxi + np.random.exponential(lambda_taxi))\n",
    "                queue.pop(0)\n",
    "                taxis = sorted(taxis)\n",
    "            \n",
    "            t = next_taxi\n",
    "            \n",
    "            if len(taxis) == 0:\n",
    "                next_taxi = 100000\n",
    "            else:\n",
    "                next_taxi = taxis[0]\n",
    "        \n",
    "    \n",
    "    return intake"
   ]
  },
  {
   "cell_type": "code",
   "execution_count": 87,
   "metadata": {},
   "outputs": [
    {
     "name": "stdout",
     "output_type": "stream",
     "text": [
      "Intake for four taxis: 189.7\n",
      "Intake for five taxis: 199.228\n",
      "Output for four taxis: 186.282\n",
      "Output for five taxis: 194.49\n"
     ]
    }
   ],
   "source": [
    "foursi = []\n",
    "fivesi = []\n",
    "fourso = []\n",
    "fiveso = []\n",
    "\n",
    "\n",
    "for i in range(0,1000):\n",
    "    foursi.append(day(4)[0])\n",
    "    fivesi.append(day(5)[0])\n",
    "    fourso.append(day(4)[1])\n",
    "    fiveso.append(day(5)[1])\n",
    "    \n",
    "print(\"Intake for four taxis: \" + str(np.mean(foursi)))\n",
    "print(\"Intake for five taxis: \" + str(np.mean(fivesi)))\n",
    "print(\"Output for four taxis: \" + str(np.mean(fourso)))\n",
    "print(\"Output for five taxis: \" + str(np.mean(fiveso)))"
   ]
  },
  {
   "cell_type": "code",
   "execution_count": 94,
   "metadata": {},
   "outputs": [
    {
     "data": {
      "text/plain": [
       "-10420.422127152284"
      ]
     },
     "execution_count": 94,
     "metadata": {},
     "output_type": "execute_result"
    }
   ],
   "source": [
    "new_rides = np.mean(fiveso) - np.mean(fourso)\n",
    "increase_in_profit = new_rides * 5 * 365\n",
    "profit = -15000\n",
    "\n",
    "for i in range(1, 6):\n",
    "    profit += (increase_in_profit - 15000) / (1 + 0.1)**i\n",
    "\n",
    "profit += 7500 / (1.1)**5\n",
    "profit "
   ]
  },
  {
   "cell_type": "code",
   "execution_count": 106,
   "metadata": {},
   "outputs": [],
   "source": [
    "def five_years(n_taxis):\n",
    "    profit = 0\n",
    "    if n_taxis == 5:\n",
    "        profit = -15000 + 7500 / (1.1)**5\n",
    "            \n",
    "    for i in range(1, 6):\n",
    "        yearly_profit = 0\n",
    "        for j in range(0,365):\n",
    "            yearly_profit += day(n_taxis) * 5\n",
    "        if n_taxis == 5:\n",
    "                yearly_profit -= 15000\n",
    "        profit += yearly_profit / (1.1)**i\n",
    "\n",
    "    return profit"
   ]
  },
  {
   "cell_type": "code",
   "execution_count": 119,
   "metadata": {},
   "outputs": [
    {
     "name": "stdout",
     "output_type": "stream",
     "text": [
      "0\n",
      "1\n",
      "2\n",
      "3\n",
      "4\n",
      "5\n",
      "6\n",
      "7\n",
      "8\n",
      "9\n"
     ]
    },
    {
     "data": {
      "text/plain": [
       "-8228.3984265855051"
      ]
     },
     "execution_count": 119,
     "metadata": {},
     "output_type": "execute_result"
    }
   ],
   "source": [
    "profits = []\n",
    "\n",
    "for i in range(0,10):\n",
    "    profits.append(five_years(5) - five_years(4))\n",
    "np.mean(profits)"
   ]
  },
  {
   "cell_type": "markdown",
   "metadata": {},
   "source": [
    "The company owner can't justify buying a new taxi since it will cause a net loss "
   ]
  }
 ],
 "metadata": {
  "kernelspec": {
   "display_name": "Python 3",
   "language": "python",
   "name": "python3"
  },
  "language_info": {
   "codemirror_mode": {
    "name": "ipython",
    "version": 3
   },
   "file_extension": ".py",
   "mimetype": "text/x-python",
   "name": "python",
   "nbconvert_exporter": "python",
   "pygments_lexer": "ipython3",
   "version": "3.5.2"
  }
 },
 "nbformat": 4,
 "nbformat_minor": 2
}
