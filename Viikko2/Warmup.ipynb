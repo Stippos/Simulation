{
 "cells": [
  {
   "cell_type": "code",
   "execution_count": 25,
   "metadata": {},
   "outputs": [],
   "source": [
    "import numpy as np\n",
    "import matplotlib.pyplot as plt"
   ]
  },
  {
   "cell_type": "code",
   "execution_count": 86,
   "metadata": {},
   "outputs": [],
   "source": [
    "def warmUp(n_servers, n_customers):\n",
    "    \n",
    "    lambda_customer = 0.125\n",
    "    lambda_server = 0.1\n",
    "    \n",
    "    customer = np.random.exponential(lambda_customer)\n",
    "    \n",
    "    server_times = [10000000000] * n_servers\n",
    "    server_statuses = [0] * n_servers\n",
    "    next_server_idx = 0\n",
    "    next_server_t = 1000000\n",
    "    ques = [[]] * n_servers\n",
    "    times = []\n",
    "    arrivals = []\n",
    "    t = 0\n",
    "        \n",
    "    while len(times) < n_customers:\n",
    "        \n",
    "        if customer < next_server_t:\n",
    "            arrivals.append(customer)\n",
    "            if server_statuses[0] == 0:\n",
    "                server_times[0] = customer + np.random.exponential(lambda_server)\n",
    "                server_statuses[0] = 1\n",
    "            else:\n",
    "                ques[0].append(1)\n",
    "            \n",
    "            t = customer \n",
    "            customer = t + np.random.exponential(lambda_customer)\n",
    "            \n",
    "            next_server_t = min(server_times)\n",
    "            next_server_idx = server_times.index(next_server_t)\n",
    "        else:\n",
    "            if next_server_idx == n_servers - 1:\n",
    "                times.append(next_server_t)   \n",
    "            elif server_statuses[next_server_idx + 1] == 0:\n",
    "                server_times[next_server_idx + 1] = next_server_t + np.random.exponential(lambda_server)\n",
    "                server_statuses[next_server_idx + 1] = 1\n",
    "            else:\n",
    "                ques[next_server_idx + 1].append(1)\n",
    "                 \n",
    "            if len(ques[next_server_idx]) > 0:\n",
    "                server_times[next_server_idx] = next_server_t + np.random.exponential(lambda_server)\n",
    "                ques[next_server_idx].pop(0)\n",
    "            else:\n",
    "                server_times[next_server_idx] = 10000000\n",
    "                server_statuses[next_server_idx] = 0\n",
    "            \n",
    "            t = next_server_t \n",
    "            \n",
    "            next_server_t = min(server_times)\n",
    "            next_server_idx = server_times.index(next_server_t)    \n",
    "    return np.array(times) - np.array(arrivals)[0:len(times)]"
   ]
  },
  {
   "cell_type": "code",
   "execution_count": 89,
   "metadata": {},
   "outputs": [],
   "source": [
    "times = warmUp(5, 100)"
   ]
  },
  {
   "cell_type": "code",
   "execution_count": 30,
   "metadata": {},
   "outputs": [],
   "source": [
    "%matplotlib inline"
   ]
  },
  {
   "cell_type": "code",
   "execution_count": 90,
   "metadata": {},
   "outputs": [
    {
     "data": {
      "text/plain": [
       "[<matplotlib.lines.Line2D at 0x25602fb9e48>]"
      ]
     },
     "execution_count": 90,
     "metadata": {},
     "output_type": "execute_result"
    },
    {
     "data": {
      "image/png": "[encoded data removed]",
      "text/plain": [
       "<matplotlib.figure.Figure at 0x25602f7b748>"
      ]
     },
     "metadata": {},
     "output_type": "display_data"
    }
   ],
   "source": [
    "plt.plot(times)"
   ]
  },
  {
   "cell_type": "code",
   "execution_count": 60,
   "metadata": {},
   "outputs": [
    {
     "data": {
      "text/plain": [
       "[[], [], [], [], [], [], [], [], [], []]"
      ]
     },
     "execution_count": 60,
     "metadata": {},
     "output_type": "execute_result"
    }
   ],
   "source": [
    "[[]]*10"
   ]
  },
  {
   "cell_type": "code",
   "execution_count": null,
   "metadata": {},
   "outputs": [],
   "source": []
  }
 ],
 "metadata": {
  "kernelspec": {
   "display_name": "Python 3",
   "language": "python",
   "name": "python3"
  },
  "language_info": {
   "codemirror_mode": {
    "name": "ipython",
    "version": 3
   },
   "file_extension": ".py",
   "mimetype": "text/x-python",
   "name": "python",
   "nbconvert_exporter": "python",
   "pygments_lexer": "ipython3",
   "version": "3.6.3"
  }
 },
 "nbformat": 4,
 "nbformat_minor": 2
}
