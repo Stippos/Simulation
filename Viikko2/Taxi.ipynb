{
 "cells": [
  {
   "cell_type": "markdown",
   "metadata": {},
   "source": [
    "# Simulation\n",
    "## Assignment 2.1 - A queuing model\n",
    "Ari Viitala \n",
    "432568"
   ]
  },
  {
   "cell_type": "code",
   "execution_count": 124,
   "metadata": {},
   "outputs": [],
   "source": [
    "import numpy as np\n",
    "import matplotlib.pyplot as plt"
   ]
  },
  {
   "cell_type": "markdown",
   "metadata": {},
   "source": [
    " ### A function that will simulate one day of running a taxi business with the given amount of taxis "
   ]
  },
  {
   "cell_type": "code",
   "execution_count": 125,
   "metadata": {},
   "outputs": [],
   "source": [
    "def day(n_taxis):\n",
    "    #parameters for the poisson process \n",
    "    lambda_taxi = 11.5\n",
    "    lambda_customer = 3\n",
    "    \n",
    "    #initialize the simulation clock\n",
    "    t = 0\n",
    "    \n",
    "    #initializing the arrival of first customer and the arrival of first taxi which is never at this moment \n",
    "    customer = np.random.exponential(lambda_customer)\n",
    "    next_taxi = 1000000\n",
    "    \n",
    "    #amount of people hopping on taxis and arriving at their destination\n",
    "    intake = 0\n",
    "    outtake= 0\n",
    "    \n",
    "    #list of taxis in operation and the queue for customers\n",
    "    taxis = []\n",
    "    queue = []\n",
    "    \n",
    "    while t < 600:\n",
    "        #while there is time left on the day\n",
    "        \n",
    "        if customer < next_taxi:\n",
    "            #if a customer arrives before a taxi is ready\n",
    "            if len(taxis) < n_taxis:\n",
    "                #if there is a free taxi put them there\n",
    "                intake += 1\n",
    "                #create arrival time for taxi\n",
    "                taxis.append(customer + np.random.exponential(lambda_taxi))\n",
    "                #make sure the first taxi to be ready is first on the list\n",
    "                taxis = sorted(taxis)\n",
    "            elif len(queue) < 16:\n",
    "                #If no taxis are free but there is room in the queue the put them there. Otherwise do nothing\n",
    "                queue.append(customer)\n",
    "            \n",
    "            #simulation time is the time customer came \n",
    "            t = customer\n",
    "            #make a new arrival time for the next customer\n",
    "            customer += np.random.exponential(lambda_customer)\n",
    "            #save the arrival time of the next taxi to be ready to next_taxi variable\n",
    "            next_taxi = taxis[0]\n",
    "        \n",
    "        else:\n",
    "            #if taxi is ready before customer comes empty the taxi and increase delivered people\n",
    "            taxis.pop(0)    \n",
    "            outtake += 1\n",
    "            if len(queue) > 0:\n",
    "                #if there is a person in que put them in taxi\n",
    "                intake += 1\n",
    "                #simulate the arrival time \n",
    "                taxis.append(next_taxi + np.random.exponential(lambda_taxi))\n",
    "                #take a person from queue \n",
    "                queue.pop(0)\n",
    "                #make sure the earliest taxi is the first on the list\n",
    "                taxis = sorted(taxis)\n",
    "            \n",
    "            #update simulation clock to the arrival of the taxi\n",
    "            t = next_taxi\n",
    "            \n",
    "            if len(taxis) == 0:\n",
    "                #if there are no taxis driving make sure no taxi will be arriving \n",
    "                next_taxi = 100000\n",
    "            else:\n",
    "                #else next taxi is the one that is ready next\n",
    "                next_taxi = taxis[0]\n",
    "        \n",
    "    #return the amount of people who we have been taken into taxis before the day has ended\n",
    "    #it would be bad customer service to leave the on the road\n",
    "    return intake"
   ]
  },
  {
   "cell_type": "markdown",
   "metadata": {},
   "source": [
    "### A function that will simulate taxi business for five years with given amount of taxis "
   ]
  },
  {
   "cell_type": "code",
   "execution_count": 130,
   "metadata": {},
   "outputs": [],
   "source": [
    "def five_years(n_taxis):\n",
    "    profit = 0\n",
    "    if n_taxis == 5:\n",
    "        #if the manager buys a new taxi there will be an initial cost and discounted resell value \n",
    "        profit = -15000 + 7500 / (1.1)**5\n",
    "            \n",
    "    for i in range(1, 6):\n",
    "        yearly_profit = 0\n",
    "        for j in range(0,365):\n",
    "            #profit for driving the taxis for a day is the delivered people times 5$ on average\n",
    "            yearly_profit += day(n_taxis) * 5\n",
    "        if n_taxis == 5:\n",
    "                #the new taxi will have the maintenance cost taken away from profit\n",
    "                yearly_profit -= 15000\n",
    "        #yearly profit will be discounted by the interest rate and added to the total profit \n",
    "        profit += yearly_profit / (1.1)**i\n",
    "    #return the discounted profit of the net present value of the cash flow \n",
    "    return profit"
   ]
  },
  {
   "cell_type": "markdown",
   "metadata": {},
   "source": [
    "### Let's simulate a few scenarios of 5 years of taxibusiness and take the difference between 4 and 5 taxis "
   ]
  },
  {
   "cell_type": "code",
   "execution_count": 128,
   "metadata": {},
   "outputs": [
    {
     "name": "stdout",
     "output_type": "stream",
     "text": [
      "Average difference between the net present values of 5 and 4 taxis: -8073.82316782\n"
     ]
    }
   ],
   "source": [
    "#initialize vector for profits\n",
    "profits = []\n",
    "\n",
    "#simulated ten 5 year scenarios of taxi business\n",
    "for i in range(0,10):\n",
    "    #print(i)\n",
    "    #add the difference between four taxis and five taxis to the profits list \n",
    "    profits.append(five_years(5) - five_years(4))\n",
    "\n",
    "print(\"Average difference between the net present values of 5 and 4 taxis: \" + str(np.mean(profits)))"
   ]
  },
  {
   "cell_type": "markdown",
   "metadata": {},
   "source": [
    "The company manager can't justify buying a new taxi since it will cause a net loss of several thousand dollars in company's profit in a five year time period on average."
   ]
  }
 ],
 "metadata": {
  "kernelspec": {
   "display_name": "Python 3",
   "language": "python",
   "name": "python3"
  },
  "language_info": {
   "codemirror_mode": {
    "name": "ipython",
    "version": 3
   },
   "file_extension": ".py",
   "mimetype": "text/x-python",
   "name": "python",
   "nbconvert_exporter": "python",
   "pygments_lexer": "ipython3",
   "version": "3.5.2"
  }
 },
 "nbformat": 4,
 "nbformat_minor": 2
}
