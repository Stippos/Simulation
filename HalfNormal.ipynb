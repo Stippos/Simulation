{
 "cells": [
  {
   "cell_type": "code",
   "execution_count": 28,
   "metadata": {},
   "outputs": [],
   "source": [
    "import numpy as np\n",
    "import matplotlib.pyplot as plt"
   ]
  },
  {
   "cell_type": "code",
   "execution_count": 71,
   "metadata": {},
   "outputs": [],
   "source": [
    "def halfNormal():\n",
    "    #from the lecture slides    \n",
    "    c = np.sqrt(2 * np.e / np.pi)\n",
    "    \n",
    "    #the counter for tries needed for viable number. At least one is needed.\n",
    "    needed = 1\n",
    "    \n",
    "    while True:\n",
    "        #sample number from g(x, lambda = 1)\n",
    "        y = np.random.exponential(1)\n",
    "        #sample numeber from u(0,1)\n",
    "        u = np.random.random()\n",
    "        #calculate f(x)\n",
    "        f = 2 / np.sqrt(2 * np.pi) * np.exp(-y**2 / 2)\n",
    "        #calculate g(x)\n",
    "        g = np.exp(-y)\n",
    "        \n",
    "        if u <= f/(g*c): \n",
    "            #if number is viable return it and the number of tries\n",
    "            return (y, needed)\n",
    "        else:\n",
    "            #else increase the tries and loop again\n",
    "            needed += 1"
   ]
  },
  {
   "cell_type": "code",
   "execution_count": 72,
   "metadata": {},
   "outputs": [],
   "source": [
    "halfNormals = []\n",
    "rejections = []\n",
    "\n",
    "for i in range(0,200000):\n",
    "    number = halfNormal()\n",
    "    halfNormals.append(number[0])\n",
    "    rejections.append(number[1])\n",
    "    "
   ]
  },
  {
   "cell_type": "code",
   "execution_count": 66,
   "metadata": {},
   "outputs": [],
   "source": [
    "%matplotlib inline"
   ]
  },
  {
   "cell_type": "code",
   "execution_count": 73,
   "metadata": {},
   "outputs": [
    {
     "data": {
      "image/png": "[encoded data removed]",
      "text/plain": [
       "<matplotlib.figure.Figure at 0x7f5a0a352f28>"
      ]
     },
     "metadata": {},
     "output_type": "display_data"
    }
   ],
   "source": [
    "plt.figure(1, (10,7))\n",
    "plt.hist(halfNormals, bins = 100)\n",
    "plt.show()"
   ]
  },
  {
   "cell_type": "code",
   "execution_count": 75,
   "metadata": {},
   "outputs": [
    {
     "data": {
      "text/plain": [
       "1.31549"
      ]
     },
     "execution_count": 75,
     "metadata": {},
     "output_type": "execute_result"
    }
   ],
   "source": [
    "np.mean(rejections)"
   ]
  },
  {
   "cell_type": "code",
   "execution_count": 76,
   "metadata": {},
   "outputs": [
    {
     "data": {
      "text/plain": [
       "1.3154892469589139"
      ]
     },
     "execution_count": 76,
     "metadata": {},
     "output_type": "execute_result"
    }
   ],
   "source": [
    "c = np.sqrt(2 * np.e / np.pi)\n",
    "c"
   ]
  },
  {
   "cell_type": "markdown",
   "metadata": {},
   "source": [
    "The value c and the average number of tries needed to get a number that is distributed like we want it be is pretty much the same. This means that the smaller the largest distance between the two density functions the smaller the expected tries to get a viable number hence the efficient code. "
   ]
  }
 ],
 "metadata": {
  "kernelspec": {
   "display_name": "Python 3",
   "language": "python",
   "name": "python3"
  },
  "language_info": {
   "codemirror_mode": {
    "name": "ipython",
    "version": 3
   },
   "file_extension": ".py",
   "mimetype": "text/x-python",
   "name": "python",
   "nbconvert_exporter": "python",
   "pygments_lexer": "ipython3",
   "version": "3.5.2"
  }
 },
 "nbformat": 4,
 "nbformat_minor": 2
}
